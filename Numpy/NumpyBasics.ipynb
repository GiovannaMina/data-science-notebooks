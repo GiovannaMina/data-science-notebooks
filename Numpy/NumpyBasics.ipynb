{
 "cells": [
  {
   "cell_type": "code",
   "execution_count": 22,
   "id": "a271a674-d4e6-4e68-8c91-dfbb7b0d337f",
   "metadata": {},
   "outputs": [],
   "source": [
    "# Numpy's ndarray is a fast and flexible container for large data sets (Elements must be of the same type; e.g., int).\n",
    "# Arrays allow you to perform mathematical operations on large sets of data."
   ]
  },
  {
   "cell_type": "code",
   "execution_count": 21,
   "id": "54f92598-4894-4ed9-95c7-5d5725cd54a8",
   "metadata": {},
   "outputs": [],
   "source": [
    "# import the library\n",
    "import numpy as np"
   ]
  },
  {
   "cell_type": "code",
   "execution_count": 23,
   "id": "4d703199-d7e3-4851-ae76-fbf324031f18",
   "metadata": {},
   "outputs": [],
   "source": [
    "list1 = [0, 1, 2, 3, 4, 5]"
   ]
  },
  {
   "cell_type": "code",
   "execution_count": 24,
   "id": "3eac2b72-3e8f-467a-8487-32e6e44b3d7e",
   "metadata": {},
   "outputs": [],
   "source": [
    "list2 = [6, 7, 8, 9, 10, 11]"
   ]
  },
  {
   "cell_type": "code",
   "execution_count": 26,
   "id": "76df7f2a-ac0d-4dd5-bf31-e698dbfacbda",
   "metadata": {},
   "outputs": [
    {
     "ename": "TypeError",
     "evalue": "can't multiply sequence by non-int of type 'list'",
     "output_type": "error",
     "traceback": [
      "\u001b[31m---------------------------------------------------------------------------\u001b[39m",
      "\u001b[31mTypeError\u001b[39m                                 Traceback (most recent call last)",
      "\u001b[36mCell\u001b[39m\u001b[36m \u001b[39m\u001b[32mIn[26]\u001b[39m\u001b[32m, line 2\u001b[39m\n\u001b[32m      1\u001b[39m \u001b[38;5;66;03m# when performing an operation between these two normally, an error will be thrown\u001b[39;00m\n\u001b[32m----> \u001b[39m\u001b[32m2\u001b[39m \u001b[43mlist1\u001b[49m\u001b[43m \u001b[49m\u001b[43m*\u001b[49m\u001b[43m \u001b[49m\u001b[43mlist2\u001b[49m\n",
      "\u001b[31mTypeError\u001b[39m: can't multiply sequence by non-int of type 'list'"
     ]
    }
   ],
   "source": [
    "# when performing an operation between these two normally, an error will be thrown\n",
    "list1 * list2"
   ]
  },
  {
   "cell_type": "code",
   "execution_count": 27,
   "id": "962e3d58-2c2b-4a00-bb06-8e12f76354bb",
   "metadata": {},
   "outputs": [
    {
     "data": {
      "text/plain": [
       "array([ 0,  7, 16, 27, 40, 55])"
      ]
     },
     "execution_count": 27,
     "metadata": {},
     "output_type": "execute_result"
    }
   ],
   "source": [
    "# However, if we transform both of them into array...\n",
    "array1 = np.array(lista1)\n",
    "array2 = np.array(lista2)\n",
    "array1 * array2"
   ]
  },
  {
   "cell_type": "code",
   "execution_count": 28,
   "id": "caf7e1b2-eea0-44ef-b69e-7cad770f4c5c",
   "metadata": {},
   "outputs": [
    {
     "data": {
      "text/plain": [
       "array([ 0,  1,  2,  3,  4,  5,  6,  7,  8,  9, 10, 11, 12, 13, 14])"
      ]
     },
     "execution_count": 28,
     "metadata": {},
     "output_type": "execute_result"
    }
   ],
   "source": [
    "# Methods:\n",
    "# arange: This is a version of the Python range function.\n",
    "np.arange(15)"
   ]
  },
  {
   "cell_type": "code",
   "execution_count": 17,
   "id": "b96c71fd-e406-43d3-8b5a-7e85b4862333",
   "metadata": {},
   "outputs": [
    {
     "data": {
      "text/plain": [
       "array([2, 3, 4, 5, 6, 7, 8, 9])"
      ]
     },
     "execution_count": 17,
     "metadata": {},
     "output_type": "execute_result"
    }
   ],
   "source": [
    "np.arange(2,10)"
   ]
  },
  {
   "cell_type": "code",
   "execution_count": 18,
   "id": "95c74d90-4bb2-4f65-b319-11315329114b",
   "metadata": {},
   "outputs": [
    {
     "data": {
      "text/plain": [
       "array([2, 4, 6, 8])"
      ]
     },
     "execution_count": 18,
     "metadata": {},
     "output_type": "execute_result"
    }
   ],
   "source": [
    "np.arange(2,10,2)"
   ]
  },
  {
   "cell_type": "code",
   "execution_count": 29,
   "id": "b11a4ffd-3a51-4934-a4f2-6c1f0c4741f9",
   "metadata": {},
   "outputs": [
    {
     "data": {
      "text/plain": [
       "array([2., 4., 6., 8.])"
      ]
     },
     "execution_count": 29,
     "metadata": {},
     "output_type": "execute_result"
    }
   ],
   "source": [
    "# You can also specify the desired data type\n",
    "np.arange(2,10,2,dtype=float)"
   ]
  }
 ],
 "metadata": {
  "kernelspec": {
   "display_name": "Python 3 (ipykernel)",
   "language": "python",
   "name": "python3"
  },
  "language_info": {
   "codemirror_mode": {
    "name": "ipython",
    "version": 3
   },
   "file_extension": ".py",
   "mimetype": "text/x-python",
   "name": "python",
   "nbconvert_exporter": "python",
   "pygments_lexer": "ipython3",
   "version": "3.13.5"
  }
 },
 "nbformat": 4,
 "nbformat_minor": 5
}
