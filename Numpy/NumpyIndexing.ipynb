{
 "cells": [
  {
   "cell_type": "code",
   "execution_count": 1,
   "id": "aa1530b1-a7ad-4df9-8682-2c0d3f8b1616",
   "metadata": {},
   "outputs": [],
   "source": [
    "# One-dimensional Arrays: They behave similarly to Python lists."
   ]
  },
  {
   "cell_type": "code",
   "execution_count": 3,
   "id": "05e62750-2530-4777-98a1-0d43db0ae5cb",
   "metadata": {},
   "outputs": [
    {
     "data": {
      "text/plain": [
       "array([0, 1, 2, 3, 4, 5, 6, 7, 8, 9])"
      ]
     },
     "execution_count": 3,
     "metadata": {},
     "output_type": "execute_result"
    }
   ],
   "source": [
    "import numpy as np\n",
    "arr = np.arange(10)\n",
    "arr"
   ]
  },
  {
   "cell_type": "code",
   "execution_count": 4,
   "id": "92f4c138-f6dc-4a30-bd44-24bf28f6c6d0",
   "metadata": {},
   "outputs": [
    {
     "data": {
      "text/plain": [
       "np.int64(5)"
      ]
     },
     "execution_count": 4,
     "metadata": {},
     "output_type": "execute_result"
    }
   ],
   "source": [
    "# To get an specific element you just need to call it from it's index.\n",
    "arr[5]"
   ]
  },
  {
   "cell_type": "code",
   "execution_count": 5,
   "id": "0ae50316-1484-4c91-a850-f0a1fe14febd",
   "metadata": {},
   "outputs": [
    {
     "data": {
      "text/plain": [
       "array([5, 6, 7])"
      ]
     },
     "execution_count": 5,
     "metadata": {},
     "output_type": "execute_result"
    }
   ],
   "source": [
    "# You can also use slicing (Note: arrays slices modifications affects the original array)\n",
    "arr[5:8]"
   ]
  },
  {
   "cell_type": "code",
   "execution_count": 6,
   "id": "41ac9a5e-4a9a-420d-9df0-f875c9f6f2c0",
   "metadata": {},
   "outputs": [
    {
     "data": {
      "text/plain": [
       "array([   0,    1,    2, 1234,    4,    5,    6,    7,    8,    9])"
      ]
     },
     "execution_count": 6,
     "metadata": {},
     "output_type": "execute_result"
    }
   ],
   "source": [
    "arr[3] = 1234\n",
    "arr"
   ]
  },
  {
   "cell_type": "code",
   "execution_count": 7,
   "id": "2a9e1f02-3ec6-4140-ad65-75c3aac3628b",
   "metadata": {},
   "outputs": [
    {
     "data": {
      "text/plain": [
       "array([[1, 2, 3],\n",
       "       [4, 5, 6],\n",
       "       [7, 8, 9]])"
      ]
     },
     "execution_count": 7,
     "metadata": {},
     "output_type": "execute_result"
    }
   ],
   "source": [
    "# Two-dimensional Arrays: They have columns and rows which can be used to access it's elements.\n",
    "arr2 = np.array([[1, 2, 3], [4, 5, 6], [7, 8, 9]])\n",
    "arr2"
   ]
  },
  {
   "cell_type": "code",
   "execution_count": 11,
   "id": "25729be1-f607-4b39-a1da-ec0cfeeef41f",
   "metadata": {},
   "outputs": [
    {
     "data": {
      "text/plain": [
       "np.int64(3)"
      ]
     },
     "execution_count": 11,
     "metadata": {},
     "output_type": "execute_result"
    }
   ],
   "source": [
    "# We can access the elements using recursive or comma separated.\n",
    "arr2[0][2]"
   ]
  },
  {
   "cell_type": "code",
   "execution_count": 12,
   "id": "1f6494f0-ec5f-453c-9a1c-c467ddb1e69f",
   "metadata": {},
   "outputs": [
    {
     "data": {
      "text/plain": [
       "np.int64(3)"
      ]
     },
     "execution_count": 12,
     "metadata": {},
     "output_type": "execute_result"
    }
   ],
   "source": [
    "arr2[0,2]"
   ]
  },
  {
   "cell_type": "code",
   "execution_count": 13,
   "id": "a3f6b700-5e32-48d7-9e88-ead9e54c844d",
   "metadata": {},
   "outputs": [
    {
     "data": {
      "text/plain": [
       "array([[1, 2, 3],\n",
       "       [4, 5, 6]])"
      ]
     },
     "execution_count": 13,
     "metadata": {},
     "output_type": "execute_result"
    }
   ],
   "source": [
    "# The slicing on a Two-dimensional array is different.\n",
    "arr2[:2]"
   ]
  },
  {
   "cell_type": "code",
   "execution_count": 15,
   "id": "d35fb946-11da-4c81-88ac-53e31ac634af",
   "metadata": {},
   "outputs": [
    {
     "data": {
      "text/plain": [
       "array([[2, 3],\n",
       "       [5, 6]])"
      ]
     },
     "execution_count": 15,
     "metadata": {},
     "output_type": "execute_result"
    }
   ],
   "source": [
    "# Selected the two first rows (indexes 0 and 1)\n",
    "# However, if we slice it using the columns and the lines...\n",
    "arr2[:2, 1:]"
   ]
  },
  {
   "cell_type": "code",
   "execution_count": 18,
   "id": "7448215c-003c-4cb4-b7c8-36dd52fcdcbf",
   "metadata": {},
   "outputs": [
    {
     "data": {
      "text/plain": [
       "array([4, 5])"
      ]
     },
     "execution_count": 18,
     "metadata": {},
     "output_type": "execute_result"
    }
   ],
   "source": [
    "# It selected the first two rows (indexes 0 and 1) and the columns from the second to the last (indexes 1 and 2)\n",
    "# We can also select one row while selecting more columns\n",
    "arr2[1, :2]"
   ]
  },
  {
   "cell_type": "code",
   "execution_count": 8,
   "id": "95fad8aa-4d6c-47ce-bb08-a0ad4f8a30c5",
   "metadata": {},
   "outputs": [
    {
     "data": {
      "text/plain": [
       "array([[1],\n",
       "       [4],\n",
       "       [7]])"
      ]
     },
     "execution_count": 8,
     "metadata": {},
     "output_type": "execute_result"
    }
   ],
   "source": [
    "# And also select one column while selecting more rows\n",
    "arr2[:, :1]"
   ]
  },
  {
   "cell_type": "code",
   "execution_count": 14,
   "id": "4602c0b1-b933-4c86-bc55-f7cf25b73594",
   "metadata": {},
   "outputs": [
    {
     "data": {
      "text/plain": [
       "array([[False, False,  True],\n",
       "       [False, False, False],\n",
       "       [False, False, False]])"
      ]
     },
     "execution_count": 14,
     "metadata": {},
     "output_type": "execute_result"
    }
   ],
   "source": [
    "# Boolean indexing\n",
    "arr2 == 3 #Compares the array elements with the number 3, if they are equal to 3, then True it's returned, otherwise, False."
   ]
  },
  {
   "cell_type": "code",
   "execution_count": 17,
   "id": "05e622b1-8501-47cb-9669-2b2f9273bce8",
   "metadata": {},
   "outputs": [
    {
     "data": {
      "text/plain": [
       "array([3])"
      ]
     },
     "execution_count": 17,
     "metadata": {},
     "output_type": "execute_result"
    }
   ],
   "source": [
    "arr2[arr2 == 3] # Returns an array with the elements that are equal to 3"
   ]
  },
  {
   "cell_type": "code",
   "execution_count": 16,
   "id": "814ee7ef-d47c-42eb-bb38-21e78012b760",
   "metadata": {},
   "outputs": [
    {
     "data": {
      "text/plain": [
       "array([[False, False,  True],\n",
       "       [False, False,  True],\n",
       "       [ True,  True,  True]])"
      ]
     },
     "execution_count": 16,
     "metadata": {},
     "output_type": "execute_result"
    }
   ],
   "source": [
    "# The words \"and\" and \"or\" don't work with numpy arrays, instead, we use $ and |\n",
    "test = (arr2 == 3) | (arr2 > 5)\n",
    "test"
   ]
  },
  {
   "cell_type": "code",
   "execution_count": null,
   "id": "ec3b052a-e168-4e81-a6ce-728d7a1bbff2",
   "metadata": {},
   "outputs": [],
   "source": [
    "# Fancy indexing; indexing using arrays of integers"
   ]
  },
  {
   "cell_type": "code",
   "execution_count": 18,
   "id": "9eb0ea31-d36a-4946-9c4c-57414dca75ba",
   "metadata": {},
   "outputs": [
    {
     "data": {
      "text/plain": [
       "array([[0., 0., 0., 0.],\n",
       "       [1., 1., 1., 1.],\n",
       "       [2., 2., 2., 2.],\n",
       "       [3., 3., 3., 3.],\n",
       "       [4., 4., 4., 4.],\n",
       "       [5., 5., 5., 5.],\n",
       "       [6., 6., 6., 6.],\n",
       "       [7., 7., 7., 7.]])"
      ]
     },
     "execution_count": 18,
     "metadata": {},
     "output_type": "execute_result"
    }
   ],
   "source": [
    "arr = np.zeros((8,4))\n",
    "for i in range(8):\n",
    "    arr[i] = i\n",
    "arr"
   ]
  },
  {
   "cell_type": "code",
   "execution_count": 19,
   "id": "f519632e-c53c-4579-af11-d90e28d9ac4d",
   "metadata": {},
   "outputs": [
    {
     "data": {
      "text/plain": [
       "array([[4., 4., 4., 4.],\n",
       "       [3., 3., 3., 3.],\n",
       "       [0., 0., 0., 0.],\n",
       "       [6., 6., 6., 6.]])"
      ]
     },
     "execution_count": 19,
     "metadata": {},
     "output_type": "execute_result"
    }
   ],
   "source": [
    "# We can select rows using a list and passing the desired order\n",
    "arr[[4, 3, 0, 6]]"
   ]
  },
  {
   "cell_type": "code",
   "execution_count": 20,
   "id": "5986bdf0-aed2-498b-988c-699df5ebd935",
   "metadata": {},
   "outputs": [
    {
     "data": {
      "text/plain": [
       "array([[5., 5., 5., 5.],\n",
       "       [3., 3., 3., 3.],\n",
       "       [1., 1., 1., 1.]])"
      ]
     },
     "execution_count": 20,
     "metadata": {},
     "output_type": "execute_result"
    }
   ],
   "source": [
    "# Using negative indexes, we select the rows in decreasing order (from the end to the beggining)\n",
    "arr[[-3, -5, -7]]"
   ]
  },
  {
   "cell_type": "code",
   "execution_count": 23,
   "id": "10ec90de-13a5-4df3-9e97-cd8b8c365b69",
   "metadata": {},
   "outputs": [
    {
     "data": {
      "text/plain": [
       "array([1., 3., 6., 5.])"
      ]
     },
     "execution_count": 23,
     "metadata": {},
     "output_type": "execute_result"
    }
   ],
   "source": [
    "# Passing multiple indexes selects an one-dimensional array from the correspondents elements at each index tuple\n",
    "arr[[1,3,6,5],[1,3,1,0]]"
   ]
  },
  {
   "cell_type": "code",
   "execution_count": 24,
   "id": "b18380b6-b6a0-442b-9b14-d63a01100d24",
   "metadata": {},
   "outputs": [],
   "source": [
    "# Transposition: is a form of reformatting the array, it swaps the axes"
   ]
  },
  {
   "cell_type": "code",
   "execution_count": 27,
   "id": "42489175-e746-4e0d-80f7-5a9278f2839b",
   "metadata": {},
   "outputs": [
    {
     "data": {
      "text/plain": [
       "array([[ 0,  1,  2,  3,  4],\n",
       "       [ 5,  6,  7,  8,  9],\n",
       "       [10, 11, 12, 13, 14]])"
      ]
     },
     "execution_count": 27,
     "metadata": {},
     "output_type": "execute_result"
    }
   ],
   "source": [
    "arr = np.arange(15).reshape(3,5)\n",
    "arr"
   ]
  },
  {
   "cell_type": "code",
   "execution_count": 28,
   "id": "10445a3d-ce5e-431b-95d4-a021a470cf77",
   "metadata": {},
   "outputs": [
    {
     "data": {
      "text/plain": [
       "array([[ 0,  5, 10],\n",
       "       [ 1,  6, 11],\n",
       "       [ 2,  7, 12],\n",
       "       [ 3,  8, 13],\n",
       "       [ 4,  9, 14]])"
      ]
     },
     "execution_count": 28,
     "metadata": {},
     "output_type": "execute_result"
    }
   ],
   "source": [
    "arr.T"
   ]
  },
  {
   "cell_type": "code",
   "execution_count": null,
   "id": "dfcf6f59-8dcc-43fc-9c2b-afe9051a8c04",
   "metadata": {},
   "outputs": [],
   "source": []
  }
 ],
 "metadata": {
  "kernelspec": {
   "display_name": "Python 3 (ipykernel)",
   "language": "python",
   "name": "python3"
  },
  "language_info": {
   "codemirror_mode": {
    "name": "ipython",
    "version": 3
   },
   "file_extension": ".py",
   "mimetype": "text/x-python",
   "name": "python",
   "nbconvert_exporter": "python",
   "pygments_lexer": "ipython3",
   "version": "3.13.5"
  }
 },
 "nbformat": 4,
 "nbformat_minor": 5
}
